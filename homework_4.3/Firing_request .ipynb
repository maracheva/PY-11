{
 "cells": [
  {
   "cell_type": "code",
   "execution_count": 2,
   "metadata": {},
   "outputs": [
    {
     "name": "stdout",
     "output_type": "stream",
     "text": [
      "[{'id': 444, 'caption': 'Campeonato Brasileiro da Série A', 'league': 'BSA', 'year': '2017', 'currentMatchday': 38, 'numberOfMatchdays': 38, 'numberOfTeams': 20, 'numberOfGames': 380, 'lastUpdated': '2017-12-11T07:05:27Z'}, {'id': 445, 'caption': 'Premier League 2017/18', 'league': 'PL', 'year': '2017', 'currentMatchday': 28, 'numberOfMatchdays': 38, 'numberOfTeams': 20, 'numberOfGames': 380, 'lastUpdated': '2018-02-26T04:50:05Z'}, {'id': 446, 'caption': 'Championship 2017/18', 'league': 'ELC', 'year': '2017', 'currentMatchday': 32, 'numberOfMatchdays': 46, 'numberOfTeams': 24, 'numberOfGames': 552, 'lastUpdated': '2018-02-26T08:00:06Z'}, {'id': 447, 'caption': 'League One 2017/18', 'league': 'EL1', 'year': '2017', 'currentMatchday': 27, 'numberOfMatchdays': 46, 'numberOfTeams': 24, 'numberOfGames': 552, 'lastUpdated': '2018-02-26T08:00:08Z'}, {'id': 448, 'caption': 'League Two 2017/18', 'league': 'EL2', 'year': '2017', 'currentMatchday': 30, 'numberOfMatchdays': 46, 'numberOfTeams': 24, 'numberOfGames': 552, 'lastUpdated': '2018-02-26T08:00:09Z'}, {'id': 449, 'caption': 'Eredivisie 2017/18', 'league': 'DED', 'year': '2017', 'currentMatchday': 25, 'numberOfMatchdays': 34, 'numberOfTeams': 18, 'numberOfGames': 306, 'lastUpdated': '2018-02-25T17:50:09Z'}, {'id': 450, 'caption': 'Ligue 1 2017/18', 'league': 'FL1', 'year': '2017', 'currentMatchday': 27, 'numberOfMatchdays': 38, 'numberOfTeams': 20, 'numberOfGames': 380, 'lastUpdated': '2018-02-25T22:10:07Z'}, {'id': 451, 'caption': 'Ligue 2 2017/18', 'league': 'FL2', 'year': '2017', 'currentMatchday': 27, 'numberOfMatchdays': 38, 'numberOfTeams': 20, 'numberOfGames': 380, 'lastUpdated': '2018-02-26T21:50:11Z'}, {'id': 452, 'caption': '1. Bundesliga 2017/18', 'league': 'BL1', 'year': '2017', 'currentMatchday': 24, 'numberOfMatchdays': 34, 'numberOfTeams': 18, 'numberOfGames': 306, 'lastUpdated': '2018-02-26T21:40:07Z'}, {'id': 453, 'caption': '2. Bundesliga 2017/18', 'league': 'BL2', 'year': '2017', 'currentMatchday': 24, 'numberOfMatchdays': 34, 'numberOfTeams': 18, 'numberOfGames': 306, 'lastUpdated': '2018-02-25T14:40:08Z'}, {'id': 455, 'caption': 'Primera Division 2017', 'league': 'PD', 'year': '2017', 'currentMatchday': 26, 'numberOfMatchdays': 38, 'numberOfTeams': 20, 'numberOfGames': 380, 'lastUpdated': '2018-02-26T22:10:11Z'}, {'id': 456, 'caption': 'Serie A 2017/18', 'league': 'SA', 'year': '2017', 'currentMatchday': 26, 'numberOfMatchdays': 38, 'numberOfTeams': 20, 'numberOfGames': 380, 'lastUpdated': '2018-02-26T21:50:14Z'}, {'id': 457, 'caption': 'Primeira Liga 2017/18', 'league': 'PPL', 'year': '2017', 'currentMatchday': 24, 'numberOfMatchdays': 34, 'numberOfTeams': 18, 'numberOfGames': 306, 'lastUpdated': '2018-02-26T23:10:05Z'}, {'id': 458, 'caption': 'DFB-Pokal 2017/18', 'league': 'DFB', 'year': '2017', 'currentMatchday': 5, 'numberOfMatchdays': 6, 'numberOfTeams': 64, 'numberOfGames': 62, 'lastUpdated': '2018-02-11T20:00:16Z'}, {'id': 459, 'caption': 'Serie B 2017/18', 'league': 'SB', 'year': '2017', 'currentMatchday': 28, 'numberOfMatchdays': 42, 'numberOfTeams': 22, 'numberOfGames': 462, 'lastUpdated': '2018-02-26T21:40:19Z'}, {'id': 464, 'caption': 'Champions League 2017/18', 'league': 'CL', 'year': '2017', 'currentMatchday': 7, 'numberOfMatchdays': 10, 'numberOfTeams': 32, 'numberOfGames': 112, 'lastUpdated': '2018-02-21T21:50:09Z'}, {'id': 466, 'caption': 'Australian A-League', 'league': 'AAL', 'year': '2017', 'currentMatchday': 21, 'numberOfMatchdays': 27, 'numberOfTeams': 10, 'numberOfGames': 135, 'lastUpdated': '2018-02-25T10:00:09Z'}]\n"
     ]
    }
   ],
   "source": [
    "import http.client\n",
    "import json\n",
    "\n",
    "connection = http.client.HTTPConnection('api.football-data.org')\n",
    "headers = { 'X-Auth-Token': 'f6b6960d8ade48dc8278f0f7788dc041', 'X-Response-Control': 'minified' }\n",
    "connection.request('GET', '/v1/competitions', None, headers )\n",
    "response = json.loads(connection.getresponse().read().decode())\n",
    "\n",
    "print (response)"
   ]
  },
  {
   "cell_type": "code",
   "execution_count": null,
   "metadata": {},
   "outputs": [],
   "source": [
    "'''\n",
    "{\n",
    "\"_links\":{\"self\":{\"href\":\"http://api.football-data.org/v1/competitions/452\"},\n",
    "\"teams\":{\"href\":\"http://api.football-data.org/v1/competitions/452/teams\"},\n",
    "\"fixtures\":{\"href\":\"http://api.football-data.org/v1/competitions/452/fixtures\"},\n",
    "\"leagueTable\":{\"href\":\"http://api.football-data.org/v1/competitions/452/leagueTable\"}},\n",
    "\"id\":452,\n",
    "\"caption\":\"1. Bundesliga 2017/18\",\n",
    "\"league\":\"BL1\",\n",
    "\"year\":\"2017\",\n",
    "\"currentMatchday\":24,\n",
    "\"numberOfMatchdays\":34,\n",
    "\"numberOfTeams\":18,\n",
    "\"numberOfGames\":306,\n",
    "\"lastUpdated\":\"2018-02-26T21:40:07Z\"\n",
    "}\n",
    "'''\n"
   ]
  }
 ],
 "metadata": {
  "kernelspec": {
   "display_name": "Python 3",
   "language": "python",
   "name": "python3"
  },
  "language_info": {
   "codemirror_mode": {
    "name": "ipython",
    "version": 3
   },
   "file_extension": ".py",
   "mimetype": "text/x-python",
   "name": "python",
   "nbconvert_exporter": "python",
   "pygments_lexer": "ipython3",
   "version": "3.6.4"
  }
 },
 "nbformat": 4,
 "nbformat_minor": 2
}
